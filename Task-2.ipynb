{
 "cells": [
  {
   "cell_type": "code",
   "execution_count": 9,
   "id": "e333cb61",
   "metadata": {},
   "outputs": [
    {
     "name": "stdout",
     "output_type": "stream",
     "text": [
      "Enterfffff\n",
      "FFFFF\n"
     ]
    }
   ],
   "source": [
    "def convert_to_uppercase(name):\n",
    "    uppercase_name = name.upper()\n",
    "    return uppercase_name\n",
    "x= input(\"Enter\")\n",
    "z= convert_to_uppercase(x)\n",
    "print(z)"
   ]
  },
  {
   "cell_type": "code",
   "execution_count": 11,
   "id": "cdc3f70a",
   "metadata": {},
   "outputs": [],
   "source": [
    "def convert_to_uppercase(name):\n",
    "    return name.upper()"
   ]
  },
  {
   "cell_type": "code",
   "execution_count": 13,
   "id": "415fb2db",
   "metadata": {},
   "outputs": [
    {
     "data": {
      "text/plain": [
       "'VVFHDH'"
      ]
     },
     "execution_count": 13,
     "metadata": {},
     "output_type": "execute_result"
    }
   ],
   "source": [
    "convert_to_uppercase(\"vvfhdh\")"
   ]
  },
  {
   "cell_type": "code",
   "execution_count": 14,
   "id": "ef7e8d4b",
   "metadata": {},
   "outputs": [],
   "source": [
    "def prime(num):\n",
    "    if num <2:\n",
    "        return False\n",
    "    for n in range(2,num+1):\n",
    "        if num % n==0:\n",
    "            return False\n",
    "        return True"
   ]
  },
  {
   "cell_type": "code",
   "execution_count": 15,
   "id": "3c7d603a",
   "metadata": {},
   "outputs": [
    {
     "data": {
      "text/plain": [
       "True"
      ]
     },
     "execution_count": 15,
     "metadata": {},
     "output_type": "execute_result"
    }
   ],
   "source": [
    "prime(5)"
   ]
  },
  {
   "cell_type": "code",
   "execution_count": null,
   "id": "e61beaea",
   "metadata": {},
   "outputs": [],
   "source": []
  }
 ],
 "metadata": {
  "kernelspec": {
   "display_name": "Python 3 (ipykernel)",
   "language": "python",
   "name": "python3"
  },
  "language_info": {
   "codemirror_mode": {
    "name": "ipython",
    "version": 3
   },
   "file_extension": ".py",
   "mimetype": "text/x-python",
   "name": "python",
   "nbconvert_exporter": "python",
   "pygments_lexer": "ipython3",
   "version": "3.11.3"
  }
 },
 "nbformat": 4,
 "nbformat_minor": 5
}
