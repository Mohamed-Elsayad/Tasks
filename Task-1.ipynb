{
 "cells": [
  {
   "cell_type": "code",
   "execution_count": 1,
   "id": "fb24e069",
   "metadata": {},
   "outputs": [],
   "source": [
    "l= [1,2,\"one\",1.66,True]"
   ]
  },
  {
   "cell_type": "code",
   "execution_count": 2,
   "id": "ed457451",
   "metadata": {},
   "outputs": [
    {
     "data": {
      "text/plain": [
       "[1, 2, 'one', 1.66, True]"
      ]
     },
     "execution_count": 2,
     "metadata": {},
     "output_type": "execute_result"
    }
   ],
   "source": [
    "l"
   ]
  },
  {
   "cell_type": "code",
   "execution_count": 3,
   "id": "2cbdf16f",
   "metadata": {},
   "outputs": [],
   "source": [
    "t= (1,2,\"one\",1.66,True)"
   ]
  },
  {
   "cell_type": "code",
   "execution_count": 4,
   "id": "0172bfc7",
   "metadata": {},
   "outputs": [
    {
     "data": {
      "text/plain": [
       "(1, 2, 'one', 1.66, True)"
      ]
     },
     "execution_count": 4,
     "metadata": {},
     "output_type": "execute_result"
    }
   ],
   "source": [
    "t"
   ]
  },
  {
   "cell_type": "code",
   "execution_count": 5,
   "id": "88479ccc",
   "metadata": {},
   "outputs": [],
   "source": [
    "s={1,2,\"one\",1.66,True} "
   ]
  },
  {
   "cell_type": "code",
   "execution_count": 6,
   "id": "3229f014",
   "metadata": {},
   "outputs": [
    {
     "data": {
      "text/plain": [
       "{1, 1.66, 2, 'one'}"
      ]
     },
     "execution_count": 6,
     "metadata": {},
     "output_type": "execute_result"
    }
   ],
   "source": [
    "s"
   ]
  },
  {
   "cell_type": "code",
   "execution_count": 8,
   "id": "c472dd3f",
   "metadata": {},
   "outputs": [],
   "source": [
    "d= {\"one\":1,\"Flo\":1.66,\"str\":\"hi\",\"bool\":True}"
   ]
  },
  {
   "cell_type": "code",
   "execution_count": 9,
   "id": "463a48d0",
   "metadata": {},
   "outputs": [
    {
     "data": {
      "text/plain": [
       "{'one': 1, 'Flo': 1.66, 'str': 'hi', 'bool': True}"
      ]
     },
     "execution_count": 9,
     "metadata": {},
     "output_type": "execute_result"
    }
   ],
   "source": [
    "d"
   ]
  },
  {
   "cell_type": "code",
   "execution_count": null,
   "id": "c4a7762a",
   "metadata": {},
   "outputs": [],
   "source": []
  }
 ],
 "metadata": {
  "kernelspec": {
   "display_name": "Python 3 (ipykernel)",
   "language": "python",
   "name": "python3"
  },
  "language_info": {
   "codemirror_mode": {
    "name": "ipython",
    "version": 3
   },
   "file_extension": ".py",
   "mimetype": "text/x-python",
   "name": "python",
   "nbconvert_exporter": "python",
   "pygments_lexer": "ipython3",
   "version": "3.11.3"
  }
 },
 "nbformat": 4,
 "nbformat_minor": 5
}
